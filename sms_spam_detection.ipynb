{
 "cells": [
  {
   "cell_type": "code",
   "execution_count": 1,
   "id": "e40110cb",
   "metadata": {},
   "outputs": [
    {
     "name": "stdout",
     "output_type": "stream",
     "text": [
      "Collecting tf-nightly\n",
      "  Downloading tf_nightly-2.10.0.dev20220503-cp39-cp39-macosx_10_14_x86_64.whl (344.1 MB)\n",
      "\u001b[K     |████████████████████████████████| 344.1 MB 10 kB/s s eta 0:00:01     |██████████▎                     | 110.2 MB 57.1 MB/s eta 0:00:05     |███████████▋                    | 124.4 MB 57.1 MB/s eta 0:00:04     |██████████████████████████      | 279.5 MB 15.1 MB/s eta 0:00:05MB/s eta 0:00:04MB/s eta 0:00:04     |███████████████████████████▌    | 296.2 MB 15.1 MB/s eta 0:00:04| 302.8 MB 69.6 MB/s eta 0:00:01     |█████████████████████████████▋  | 318.8 MB 10.4 MB/s eta 0:00:03��███▉  | 320.4 MB 10.4 MB/s eta 0:00:03�█████████▏ | 323.9 MB 10.4 MB/s eta 0:00:02�██████████ | 333.8 MB 10.4 MB/s eta 0:00:01�██████████ | 334.1 MB 10.4 MB/s eta 0:00:01███████████████▋| 340.2 MB 98.4 MB/s eta 0:00:01\n",
      "\u001b[?25hRequirement already satisfied: keras-preprocessing>=1.1.1 in /Users/cnieto/opt/anaconda3/lib/python3.9/site-packages (from tf-nightly) (1.1.2)\n",
      "Requirement already satisfied: wrapt>=1.11.0 in /Users/cnieto/opt/anaconda3/lib/python3.9/site-packages (from tf-nightly) (1.12.1)\n",
      "Collecting flatbuffers<2,>=1.12\n",
      "  Downloading flatbuffers-1.12-py2.py3-none-any.whl (15 kB)\n",
      "Requirement already satisfied: astunparse>=1.6.0 in /Users/cnieto/opt/anaconda3/lib/python3.9/site-packages (from tf-nightly) (1.6.3)\n",
      "Requirement already satisfied: termcolor>=1.1.0 in /Users/cnieto/opt/anaconda3/lib/python3.9/site-packages (from tf-nightly) (1.1.0)\n",
      "Requirement already satisfied: opt-einsum>=2.3.2 in /Users/cnieto/opt/anaconda3/lib/python3.9/site-packages (from tf-nightly) (3.3.0)\n",
      "Requirement already satisfied: six>=1.12.0 in /Users/cnieto/opt/anaconda3/lib/python3.9/site-packages (from tf-nightly) (1.15.0)\n",
      "Requirement already satisfied: libclang>=13.0.0 in /Users/cnieto/opt/anaconda3/lib/python3.9/site-packages (from tf-nightly) (13.0.0)\n",
      "Requirement already satisfied: setuptools in /Users/cnieto/opt/anaconda3/lib/python3.9/site-packages (from tf-nightly) (58.0.4)\n",
      "Collecting tf-estimator-nightly~=2.10.0.dev\n",
      "  Downloading tf_estimator_nightly-2.10.0.dev2022050308-py2.py3-none-any.whl (438 kB)\n",
      "\u001b[K     |████████████████████████████████| 438 kB 19.8 MB/s eta 0:00:01\n",
      "\u001b[?25hRequirement already satisfied: grpcio<2.0,>=1.24.3 in /Users/cnieto/opt/anaconda3/lib/python3.9/site-packages (from tf-nightly) (1.44.0)\n",
      "Requirement already satisfied: numpy>=1.20 in /Users/cnieto/opt/anaconda3/lib/python3.9/site-packages (from tf-nightly) (1.22.2)\n",
      "Requirement already satisfied: absl-py>=1.0.0 in /Users/cnieto/opt/anaconda3/lib/python3.9/site-packages (from tf-nightly) (1.0.0)\n",
      "Requirement already satisfied: protobuf>=3.9.2 in /Users/cnieto/opt/anaconda3/lib/python3.9/site-packages (from tf-nightly) (3.19.3)\n",
      "Requirement already satisfied: packaging in /Users/cnieto/opt/anaconda3/lib/python3.9/site-packages (from tf-nightly) (21.0)\n",
      "Requirement already satisfied: typing-extensions>=3.6.6 in /Users/cnieto/opt/anaconda3/lib/python3.9/site-packages (from tf-nightly) (3.10.0.2)\n",
      "Collecting keras-nightly~=2.10.0.dev\n",
      "  Downloading keras_nightly-2.10.0.dev2022050307-py2.py3-none-any.whl (1.6 MB)\n",
      "\u001b[K     |████████████████████████████████| 1.6 MB 20.1 MB/s eta 0:00:01\n",
      "\u001b[?25hCollecting tb-nightly~=2.9.0.a\n",
      "  Downloading tb_nightly-2.9.0a20220502-py3-none-any.whl (5.8 MB)\n",
      "\u001b[K     |████████████████████████████████| 5.8 MB 18.1 MB/s eta 0:00:018.1 MB/s eta 0:00:01\n",
      "\u001b[?25hCollecting gast<=0.4.0,>=0.2.1\n",
      "  Downloading gast-0.4.0-py3-none-any.whl (9.8 kB)\n",
      "Requirement already satisfied: google-pasta>=0.1.1 in /Users/cnieto/opt/anaconda3/lib/python3.9/site-packages (from tf-nightly) (0.2.0)\n",
      "Requirement already satisfied: h5py>=2.9.0 in /Users/cnieto/opt/anaconda3/lib/python3.9/site-packages (from tf-nightly) (3.2.1)\n",
      "Requirement already satisfied: tensorflow-io-gcs-filesystem>=0.23.1 in /Users/cnieto/opt/anaconda3/lib/python3.9/site-packages (from tf-nightly) (0.24.0)\n",
      "Requirement already satisfied: wheel<1.0,>=0.23.0 in /Users/cnieto/opt/anaconda3/lib/python3.9/site-packages (from astunparse>=1.6.0->tf-nightly) (0.37.0)\n",
      "Requirement already satisfied: requests<3,>=2.21.0 in /Users/cnieto/opt/anaconda3/lib/python3.9/site-packages (from tb-nightly~=2.9.0.a->tf-nightly) (2.26.0)\n",
      "Requirement already satisfied: google-auth<3,>=1.6.3 in /Users/cnieto/opt/anaconda3/lib/python3.9/site-packages (from tb-nightly~=2.9.0.a->tf-nightly) (2.4.0)\n",
      "Requirement already satisfied: werkzeug>=1.0.1 in /Users/cnieto/opt/anaconda3/lib/python3.9/site-packages (from tb-nightly~=2.9.0.a->tf-nightly) (2.0.2)\n",
      "Requirement already satisfied: tensorboard-data-server<0.7.0,>=0.6.0 in /Users/cnieto/opt/anaconda3/lib/python3.9/site-packages (from tb-nightly~=2.9.0.a->tf-nightly) (0.6.1)\n",
      "Requirement already satisfied: google-auth-oauthlib<0.5,>=0.4.1 in /Users/cnieto/opt/anaconda3/lib/python3.9/site-packages (from tb-nightly~=2.9.0.a->tf-nightly) (0.4.6)\n",
      "Requirement already satisfied: tensorboard-plugin-wit>=1.6.0 in /Users/cnieto/opt/anaconda3/lib/python3.9/site-packages (from tb-nightly~=2.9.0.a->tf-nightly) (1.8.1)\n",
      "Requirement already satisfied: markdown>=2.6.8 in /Users/cnieto/opt/anaconda3/lib/python3.9/site-packages (from tb-nightly~=2.9.0.a->tf-nightly) (3.3.6)\n",
      "Requirement already satisfied: rsa<5,>=3.1.4 in /Users/cnieto/opt/anaconda3/lib/python3.9/site-packages (from google-auth<3,>=1.6.3->tb-nightly~=2.9.0.a->tf-nightly) (4.8)\n",
      "Requirement already satisfied: pyasn1-modules>=0.2.1 in /Users/cnieto/opt/anaconda3/lib/python3.9/site-packages (from google-auth<3,>=1.6.3->tb-nightly~=2.9.0.a->tf-nightly) (0.2.8)\n",
      "Requirement already satisfied: cachetools<6.0,>=2.0.0 in /Users/cnieto/opt/anaconda3/lib/python3.9/site-packages (from google-auth<3,>=1.6.3->tb-nightly~=2.9.0.a->tf-nightly) (5.0.0)\n",
      "Requirement already satisfied: requests-oauthlib>=0.7.0 in /Users/cnieto/opt/anaconda3/lib/python3.9/site-packages (from google-auth-oauthlib<0.5,>=0.4.1->tb-nightly~=2.9.0.a->tf-nightly) (1.3.0)\n",
      "Requirement already satisfied: importlib-metadata>=4.4 in /Users/cnieto/opt/anaconda3/lib/python3.9/site-packages (from markdown>=2.6.8->tb-nightly~=2.9.0.a->tf-nightly) (4.11.3)\n",
      "Requirement already satisfied: zipp>=0.5 in /Users/cnieto/opt/anaconda3/lib/python3.9/site-packages (from importlib-metadata>=4.4->markdown>=2.6.8->tb-nightly~=2.9.0.a->tf-nightly) (3.6.0)\n",
      "Requirement already satisfied: pyasn1<0.5.0,>=0.4.6 in /Users/cnieto/opt/anaconda3/lib/python3.9/site-packages (from pyasn1-modules>=0.2.1->google-auth<3,>=1.6.3->tb-nightly~=2.9.0.a->tf-nightly) (0.4.8)\n",
      "Requirement already satisfied: urllib3<1.27,>=1.21.1 in /Users/cnieto/opt/anaconda3/lib/python3.9/site-packages (from requests<3,>=2.21.0->tb-nightly~=2.9.0.a->tf-nightly) (1.26.7)\n",
      "Requirement already satisfied: idna<4,>=2.5 in /Users/cnieto/opt/anaconda3/lib/python3.9/site-packages (from requests<3,>=2.21.0->tb-nightly~=2.9.0.a->tf-nightly) (3.2)\n",
      "Requirement already satisfied: certifi>=2017.4.17 in /Users/cnieto/opt/anaconda3/lib/python3.9/site-packages (from requests<3,>=2.21.0->tb-nightly~=2.9.0.a->tf-nightly) (2021.10.8)\n",
      "Requirement already satisfied: charset-normalizer~=2.0.0 in /Users/cnieto/opt/anaconda3/lib/python3.9/site-packages (from requests<3,>=2.21.0->tb-nightly~=2.9.0.a->tf-nightly) (2.0.4)\n",
      "Requirement already satisfied: oauthlib>=3.0.0 in /Users/cnieto/opt/anaconda3/lib/python3.9/site-packages (from requests-oauthlib>=0.7.0->google-auth-oauthlib<0.5,>=0.4.1->tb-nightly~=2.9.0.a->tf-nightly) (3.1.1)\n",
      "Requirement already satisfied: pyparsing>=2.0.2 in /Users/cnieto/opt/anaconda3/lib/python3.9/site-packages (from packaging->tf-nightly) (3.0.4)\n",
      "Installing collected packages: tf-estimator-nightly, tb-nightly, keras-nightly, gast, flatbuffers, tf-nightly\n",
      "  Attempting uninstall: tf-estimator-nightly\n",
      "    Found existing installation: tf-estimator-nightly 2.8.0.dev2021122109\n",
      "    Uninstalling tf-estimator-nightly-2.8.0.dev2021122109:\n",
      "      Successfully uninstalled tf-estimator-nightly-2.8.0.dev2021122109\n",
      "  Attempting uninstall: gast\n",
      "    Found existing installation: gast 0.5.3\n",
      "    Uninstalling gast-0.5.3:\n",
      "      Successfully uninstalled gast-0.5.3\n",
      "  Attempting uninstall: flatbuffers\n",
      "    Found existing installation: flatbuffers 2.0\n",
      "    Uninstalling flatbuffers-2.0:\n",
      "      Successfully uninstalled flatbuffers-2.0\n"
     ]
    },
    {
     "name": "stdout",
     "output_type": "stream",
     "text": [
      "\u001b[31mERROR: pip's dependency resolver does not currently take into account all the packages that are installed. This behaviour is the source of the following dependency conflicts.\n",
      "tensorflow 2.8.0 requires tf-estimator-nightly==2.8.0.dev2021122109, but you have tf-estimator-nightly 2.10.0.dev2022050308 which is incompatible.\u001b[0m\n",
      "Successfully installed flatbuffers-1.12 gast-0.4.0 keras-nightly-2.10.0.dev2022050307 tb-nightly-2.9.0a20220502 tf-estimator-nightly-2.10.0.dev2022050308 tf-nightly-2.10.0.dev20220503\n",
      "Collecting tensorflow-datasets\n",
      "  Downloading tensorflow_datasets-4.5.2-py3-none-any.whl (4.2 MB)\n",
      "\u001b[K     |████████████████████████████████| 4.2 MB 3.3 MB/s eta 0:00:01\n",
      "\u001b[?25hRequirement already satisfied: numpy in /Users/cnieto/opt/anaconda3/lib/python3.9/site-packages (from tensorflow-datasets) (1.22.2)\n",
      "Requirement already satisfied: requests>=2.19.0 in /Users/cnieto/opt/anaconda3/lib/python3.9/site-packages (from tensorflow-datasets) (2.26.0)\n",
      "Requirement already satisfied: six in /Users/cnieto/opt/anaconda3/lib/python3.9/site-packages (from tensorflow-datasets) (1.15.0)\n",
      "Collecting promise\n",
      "  Downloading promise-2.3.tar.gz (19 kB)\n",
      "Collecting dill\n",
      "  Downloading dill-0.3.4-py2.py3-none-any.whl (86 kB)\n",
      "\u001b[K     |████████████████████████████████| 86 kB 9.0 MB/s  eta 0:00:01\n",
      "\u001b[?25hRequirement already satisfied: tqdm in /Users/cnieto/opt/anaconda3/lib/python3.9/site-packages (from tensorflow-datasets) (4.56.0)\n",
      "Collecting tensorflow-metadata\n",
      "  Downloading tensorflow_metadata-1.7.0-py3-none-any.whl (48 kB)\n",
      "\u001b[K     |████████████████████████████████| 48 kB 9.6 MB/s  eta 0:00:01\n",
      "\u001b[?25hRequirement already satisfied: termcolor in /Users/cnieto/opt/anaconda3/lib/python3.9/site-packages (from tensorflow-datasets) (1.1.0)\n",
      "Requirement already satisfied: absl-py in /Users/cnieto/opt/anaconda3/lib/python3.9/site-packages (from tensorflow-datasets) (1.0.0)\n",
      "Requirement already satisfied: protobuf>=3.12.2 in /Users/cnieto/opt/anaconda3/lib/python3.9/site-packages (from tensorflow-datasets) (3.19.3)\n",
      "Requirement already satisfied: idna<4,>=2.5 in /Users/cnieto/opt/anaconda3/lib/python3.9/site-packages (from requests>=2.19.0->tensorflow-datasets) (3.2)\n",
      "Requirement already satisfied: charset-normalizer~=2.0.0 in /Users/cnieto/opt/anaconda3/lib/python3.9/site-packages (from requests>=2.19.0->tensorflow-datasets) (2.0.4)\n",
      "Requirement already satisfied: certifi>=2017.4.17 in /Users/cnieto/opt/anaconda3/lib/python3.9/site-packages (from requests>=2.19.0->tensorflow-datasets) (2021.10.8)\n",
      "Requirement already satisfied: urllib3<1.27,>=1.21.1 in /Users/cnieto/opt/anaconda3/lib/python3.9/site-packages (from requests>=2.19.0->tensorflow-datasets) (1.26.7)\n",
      "Requirement already satisfied: googleapis-common-protos<2,>=1.52.0 in /Users/cnieto/opt/anaconda3/lib/python3.9/site-packages (from tensorflow-metadata->tensorflow-datasets) (1.56.0)\n",
      "Building wheels for collected packages: promise\n",
      "  Building wheel for promise (setup.py) ... \u001b[?25ldone\n",
      "\u001b[?25h  Created wheel for promise: filename=promise-2.3-py3-none-any.whl size=21502 sha256=1550c29e28e1f0e1c4dc571342fce248def4bb61b8e8681461f261a54ef76ff2\n",
      "  Stored in directory: /Users/cnieto/Library/Caches/pip/wheels/e1/e8/83/ddea66100678d139b14bc87692ece57c6a2a937956d2532608\n",
      "Successfully built promise\n",
      "Installing collected packages: tensorflow-metadata, promise, dill, tensorflow-datasets\n",
      "Successfully installed dill-0.3.4 promise-2.3 tensorflow-datasets-4.5.2 tensorflow-metadata-1.7.0\n",
      "2.10.0-dev20220503\n"
     ]
    }
   ],
   "source": [
    "# import libraries\n",
    "try: \n",
    "  # %tensorflow_version only exists in Colab.\n",
    "    !pip install tf-nightly\n",
    "except Exception:\n",
    "    pass\n",
    "import tensorflow as tf\n",
    "import pandas as pd\n",
    "from tensorflow import keras\n",
    "!pip install tensorflow-datasets\n",
    "import tensorflow_datasets as tfds\n",
    "import numpy as np\n",
    "import matplotlib.pyplot as plt\n",
    "\n",
    "print(tf.__version__)"
   ]
  },
  {
   "cell_type": "code",
   "execution_count": 4,
   "id": "53f38f07",
   "metadata": {},
   "outputs": [],
   "source": [
    "train_file_path = '/Users/cnieto/Downloads/train_text.txt'\n",
    "test_file_path = '/Users/cnieto/Downloads/test_text.txt'"
   ]
  },
  {
   "cell_type": "code",
   "execution_count": 5,
   "id": "7dd0327a",
   "metadata": {},
   "outputs": [],
   "source": [
    "# reading the downloaded files\n",
    "import os\n",
    "train_text = open(train_file_path,'rb').read().decode(encoding='utf-8')\n",
    "test_text = open(test_file_path,'rb').read().decode(encoding='utf-8')"
   ]
  },
  {
   "cell_type": "code",
   "execution_count": 6,
   "id": "506a677a",
   "metadata": {},
   "outputs": [],
   "source": [
    "import re\n",
    "whole = train_text + ' ' + test_text\n",
    "unique_words = re.split(' |,| .|\\n|ham\\t|!',whole)\n",
    "unique_words = sorted(set(unique_words))"
   ]
  },
  {
   "cell_type": "code",
   "execution_count": 7,
   "id": "9dcd6d96",
   "metadata": {},
   "outputs": [],
   "source": [
    "# creating a word_index\n",
    "word_index = {}\n",
    "count = 1\n",
    "for i in unique_words:\n",
    "    word_index[i] = count\n",
    "    count += 1"
   ]
  },
  {
   "cell_type": "code",
   "execution_count": 8,
   "id": "9d17079c",
   "metadata": {},
   "outputs": [],
   "source": [
    "VOCAB_SIZE = len(unique_words)"
   ]
  },
  {
   "cell_type": "code",
   "execution_count": 9,
   "id": "226344f9",
   "metadata": {},
   "outputs": [],
   "source": [
    "# seggregate labels\n",
    "train_labels = []\n",
    "for i in train_text.split('\\n'):\n",
    "    if i.startswith('ham'):\n",
    "        train_labels.append(0)\n",
    "    else:\n",
    "        train_labels.append(1)"
   ]
  },
  {
   "cell_type": "code",
   "execution_count": 10,
   "id": "9e23527e",
   "metadata": {},
   "outputs": [],
   "source": [
    "#split each sms text\n",
    "sms_train_list = re.split('ham\\t|\\n',train_text)\n",
    "sms_test_list = re.split('ham\\t|\\n',test_text)"
   ]
  },
  {
   "cell_type": "code",
   "execution_count": 11,
   "id": "8fa30849",
   "metadata": {},
   "outputs": [],
   "source": [
    "# deleting empty sms\n",
    "sms_train_list = [i for i in sms_train_list if len(i) > 0]\n",
    "sms_test_list = [i for i in sms_test_list if len(i) > 0]"
   ]
  },
  {
   "cell_type": "code",
   "execution_count": 12,
   "id": "81d37dd4",
   "metadata": {},
   "outputs": [
    {
     "data": {
      "text/plain": [
       "1"
      ]
     },
     "execution_count": 12,
     "metadata": {},
     "output_type": "execute_result"
    }
   ],
   "source": [
    "train_labels.pop(-1)"
   ]
  },
  {
   "cell_type": "code",
   "execution_count": 13,
   "id": "b6ee889e",
   "metadata": {},
   "outputs": [],
   "source": [
    "MAXLEN = 200\n",
    "BATCH_SIZE = 64"
   ]
  },
  {
   "cell_type": "code",
   "execution_count": 14,
   "id": "a675984a",
   "metadata": {},
   "outputs": [],
   "source": [
    "#encoder for text\n",
    "#%tensorflow_version 2.x\n",
    "from keras.preprocessing import sequence\n",
    "from tensorflow.compat.v1.keras.preprocessing.sequence import pad_sequences\n",
    "\n",
    "def encode_text(text):\n",
    "    tokens = keras.preprocessing.text.text_to_word_sequence(text)\n",
    "    tokens = [word_index[word] if word in word_index else 0 for word in tokens]\n",
    "    return pad_sequences([tokens],MAXLEN)[0]"
   ]
  },
  {
   "cell_type": "code",
   "execution_count": 15,
   "id": "861895de",
   "metadata": {},
   "outputs": [
    {
     "data": {
      "text/plain": [
       "array([    0,     0,     0,     0,     0,     0,     0,     0,     0,\n",
       "           0,     0,     0,     0,     0,     0,     0,     0,     0,\n",
       "           0,     0,     0,     0,     0,     0,     0,     0,     0,\n",
       "           0,     0,     0,     0,     0,     0,     0,     0,     0,\n",
       "           0,     0,     0,     0,     0,     0,     0,     0,     0,\n",
       "           0,     0,     0,     0,     0,     0,     0,     0,     0,\n",
       "           0,     0,     0,     0,     0,     0,     0,     0,     0,\n",
       "           0,     0,     0,     0,     0,     0,     0,     0,     0,\n",
       "           0,     0,     0,     0,     0,     0,     0,     0,     0,\n",
       "           0,     0,     0,     0,     0,     0,     0,     0,     0,\n",
       "           0,     0,     0,     0,     0,     0,     0,     0,     0,\n",
       "           0,     0,     0,     0,     0,     0,     0,     0,     0,\n",
       "           0,     0,     0,     0,     0,     0,     0,     0,     0,\n",
       "           0,     0,     0,     0,     0,     0,     0,     0,     0,\n",
       "           0,     0,     0,     0,     0,     0,     0,     0,     0,\n",
       "           0,     0,     0,     0,     0,     0,     0,     0,     0,\n",
       "           0,     0,     0,     0,     0,     0,     0,     0,     0,\n",
       "           0,     0,     0,     0,     0,     0,     0,     0,     0,\n",
       "           0,     0,     0,     0,     0,     0,     0,     0,     0,\n",
       "           0,     0,     0,     0,     0,  7703, 11443, 10000,  6552,\n",
       "        6895,  9418,  2369, 10440,  6552,  5652,  5917, 11321,  7885,\n",
       "        3390,  2505,  5486, 12243,  5246, 11443,  5824,   845,  8955,\n",
       "        3720,  4197], dtype=int32)"
      ]
     },
     "execution_count": 15,
     "metadata": {},
     "output_type": "execute_result"
    }
   ],
   "source": [
    "encode_text(sms_train_list[2])"
   ]
  },
  {
   "cell_type": "code",
   "execution_count": 16,
   "id": "76f56bc6",
   "metadata": {},
   "outputs": [
    {
     "data": {
      "text/plain": [
       "'now u sound like manky scouse boy steve,like! i is travelling on da bus home.wot has u inmind 4 recreation dis eve?'"
      ]
     },
     "execution_count": 16,
     "metadata": {},
     "output_type": "execute_result"
    }
   ],
   "source": [
    "sms_train_list[2]"
   ]
  },
  {
   "cell_type": "code",
   "execution_count": 17,
   "id": "5a0f622b",
   "metadata": {},
   "outputs": [],
   "source": [
    "# encoding whole train and test and applying padding all at once\n",
    "train_data = list(map(encode_text,sms_train_list))\n",
    "test_data = list(map(encode_text,sms_test_list))"
   ]
  },
  {
   "cell_type": "code",
   "execution_count": 33,
   "id": "414b69ba",
   "metadata": {},
   "outputs": [],
   "source": [
    "## bulding model \n",
    "model = tf.keras.Sequential([\n",
    "    tf.keras.layers.Embedding(VOCAB_SIZE,32),\n",
    "    tf.keras.layers.LSTM(32),\n",
    "    tf.keras.layers.Dense(1, activation='sigmoid')\n",
    "])"
   ]
  },
  {
   "cell_type": "code",
   "execution_count": 34,
   "id": "34fc59ad",
   "metadata": {},
   "outputs": [
    {
     "name": "stdout",
     "output_type": "stream",
     "text": [
      "Model: \"sequential_2\"\n",
      "_________________________________________________________________\n",
      " Layer (type)                Output Shape              Param #   \n",
      "=================================================================\n",
      " embedding_2 (Embedding)     (None, None, 32)          404032    \n",
      "                                                                 \n",
      " lstm_2 (LSTM)               (None, 32)                8320      \n",
      "                                                                 \n",
      " dense_2 (Dense)             (None, 1)                 33        \n",
      "                                                                 \n",
      "=================================================================\n",
      "Total params: 412,385\n",
      "Trainable params: 412,385\n",
      "Non-trainable params: 0\n",
      "_________________________________________________________________\n"
     ]
    }
   ],
   "source": [
    "model.summary()"
   ]
  },
  {
   "cell_type": "code",
   "execution_count": 35,
   "id": "fca8bea1",
   "metadata": {},
   "outputs": [
    {
     "name": "stdout",
     "output_type": "stream",
     "text": [
      "Epoch 1/15\n",
      "105/105 [==============================] - 12s 87ms/step - loss: 0.2503 - acc: 0.9061 - val_loss: 0.1302 - val_acc: 0.9833\n",
      "Epoch 2/15\n",
      "105/105 [==============================] - 8s 80ms/step - loss: 0.0745 - acc: 0.9838 - val_loss: 0.0561 - val_acc: 0.9892\n",
      "Epoch 3/15\n",
      "105/105 [==============================] - 8s 79ms/step - loss: 0.0347 - acc: 0.9928 - val_loss: 0.0416 - val_acc: 0.9892\n",
      "Epoch 4/15\n",
      "105/105 [==============================] - 8s 76ms/step - loss: 0.0173 - acc: 0.9958 - val_loss: 0.0310 - val_acc: 0.9928\n",
      "Epoch 5/15\n",
      "105/105 [==============================] - 9s 81ms/step - loss: 0.0069 - acc: 0.9979 - val_loss: 0.0400 - val_acc: 0.9916\n",
      "Epoch 6/15\n",
      "105/105 [==============================] - 9s 87ms/step - loss: 0.0058 - acc: 0.9982 - val_loss: 0.0353 - val_acc: 0.9928\n",
      "Epoch 7/15\n",
      "105/105 [==============================] - 9s 82ms/step - loss: 8.7871e-04 - acc: 0.9997 - val_loss: 0.0351 - val_acc: 0.9916\n",
      "Epoch 8/15\n",
      "105/105 [==============================] - 11s 103ms/step - loss: 0.0486 - acc: 0.9910 - val_loss: 0.0377 - val_acc: 0.9940\n",
      "Epoch 9/15\n",
      "105/105 [==============================] - 11s 101ms/step - loss: 2.5960e-04 - acc: 1.0000 - val_loss: 0.0455 - val_acc: 0.9916\n",
      "Epoch 10/15\n",
      "105/105 [==============================] - 10s 96ms/step - loss: 2.3080e-04 - acc: 1.0000 - val_loss: 0.0492 - val_acc: 0.9928\n",
      "Epoch 11/15\n",
      "105/105 [==============================] - 9s 84ms/step - loss: 7.3525e-05 - acc: 1.0000 - val_loss: 0.0485 - val_acc: 0.9928\n",
      "Epoch 12/15\n",
      "105/105 [==============================] - 10s 94ms/step - loss: 1.5179e-05 - acc: 1.0000 - val_loss: 0.0488 - val_acc: 0.9940\n",
      "Epoch 13/15\n",
      "105/105 [==============================] - 9s 86ms/step - loss: 0.0033 - acc: 0.9997 - val_loss: 0.0373 - val_acc: 0.9964\n",
      "Epoch 14/15\n",
      "105/105 [==============================] - 8s 79ms/step - loss: 0.2116 - acc: 0.9743 - val_loss: 0.0583 - val_acc: 0.9916\n",
      "Epoch 15/15\n",
      "105/105 [==============================] - 8s 79ms/step - loss: 0.0219 - acc: 0.9958 - val_loss: 0.0501 - val_acc: 0.9952\n"
     ]
    }
   ],
   "source": [
    "# compiling and training\n",
    "model.compile(loss='binary_crossentropy',optimizer='rmsprop',metrics=['acc'])\n",
    "\n",
    "hist = model.fit(np.asarray(train_data), np.asarray(train_labels),epochs=15,validation_split=0.2)"
   ]
  },
  {
   "cell_type": "code",
   "execution_count": 36,
   "id": "dfc249e9",
   "metadata": {},
   "outputs": [
    {
     "name": "stderr",
     "output_type": "stream",
     "text": [
      "/Users/cnieto/opt/anaconda3/lib/python3.9/site-packages/seaborn/_decorators.py:36: FutureWarning: Pass the following variable as a keyword arg: x. From version 0.12, the only valid positional argument will be `data`, and passing other arguments without an explicit keyword will result in an error or misinterpretation.\n",
      "  warnings.warn(\n"
     ]
    },
    {
     "data": {
      "text/plain": [
       "<AxesSubplot:ylabel='count'>"
      ]
     },
     "execution_count": 36,
     "metadata": {},
     "output_type": "execute_result"
    },
    {
     "data": {
      "image/png": "[encoded data removed]",
      "text/plain": [
       "<Figure size 432x288 with 1 Axes>"
      ]
     },
     "metadata": {
      "needs_background": "light"
     },
     "output_type": "display_data"
    }
   ],
   "source": [
    "import seaborn as sns\n",
    "\n",
    "sns.countplot(train_labels)"
   ]
  },
  {
   "cell_type": "code",
   "execution_count": 37,
   "id": "e3d65727",
   "metadata": {},
   "outputs": [
    {
     "name": "stdout",
     "output_type": "stream",
     "text": [
      "1/1 [==============================] - 1s 554ms/step\n",
      "[1.8491235e-07, 'ham']\n"
     ]
    }
   ],
   "source": [
    "# function to predict messages based on model\n",
    "# (should return list containing prediction and label, ex. [0.008318834938108921, 'ham'])\n",
    "def predict_message(pred_text):\n",
    "    encoded_text = encode_text(pred_text)\n",
    "    pred = np.zeros((1,200)) # maximum of words we want in each review\n",
    "    pred[0] = encoded_text\n",
    "    result = model.predict(pred)\n",
    "    if result < 0.4: # due to unbalancement on target label, we have to give the model more tolerance\n",
    "        result_text = 'ham'\n",
    "    else:\n",
    "        result_text = 'spam'\n",
    "\n",
    "    return [result[0][0],result_text]\n",
    "pred_text = \"how are you doing today?\"\n",
    "\n",
    "prediction = predict_message(pred_text)\n",
    "print(prediction)"
   ]
  },
  {
   "cell_type": "markdown",
   "id": "cd5e5899",
   "metadata": {},
   "source": [
    "## Testing"
   ]
  },
  {
   "cell_type": "code",
   "execution_count": 40,
   "id": "3d4fcf6d",
   "metadata": {},
   "outputs": [
    {
     "name": "stdout",
     "output_type": "stream",
     "text": [
      "1/1 [==============================] - 0s 34ms/step\n",
      "[1.8491235e-07, 'ham']\n",
      "1/1 [==============================] - 0s 31ms/step\n",
      "[1.8486263e-07, 'ham']\n",
      "1/1 [==============================] - 0s 32ms/step\n",
      "[0.99996406, 'spam']\n",
      "1/1 [==============================] - 0s 34ms/step\n",
      "[0.9999525, 'spam']\n",
      "1/1 [==============================] - 0s 36ms/step\n",
      "[2.7117727e-07, 'ham']\n",
      "1/1 [==============================] - 0s 32ms/step\n",
      "[1.0927022e-07, 'ham']\n",
      "You passed the challenge. Great job!\n"
     ]
    }
   ],
   "source": [
    "# Run this cell to test your function and model. Do not modify contents.\n",
    "def test_predictions():\n",
    "    \n",
    "    test_messages = [\"how are you doing today\",\n",
    "                     \"i dont want to go. can we try it a different day? available sat\",\n",
    "                     \"our new mobile video service is live. just install on your phone to start watching.\",\n",
    "                     \"you have won £1000 cash! call to claim your prize.\",\n",
    "                     \"i'll bring it tomorrow. don't forget the milk.\",\n",
    "                     \"wow, is your arm alright. that happened to me one time too\"\n",
    "                    ]\n",
    "\n",
    "    test_answers = [\"ham\", \"ham\", \"spam\", \"spam\", \"ham\", \"ham\"]\n",
    "    passed = True\n",
    "\n",
    "    for msg, ans in zip(test_messages, test_answers):\n",
    "        prediction = predict_message(msg)\n",
    "        print(prediction)\n",
    "        if prediction[1] != ans:\n",
    "            passed = False\n",
    "\n",
    "    if passed:\n",
    "        print(\"You passed the challenge. Great job!\")\n",
    "    else:\n",
    "        print(\"You haven't passed yet. Keep trying.\")\n",
    "test_predictions()"
   ]
  },
  {
   "cell_type": "code",
   "execution_count": null,
   "id": "956e43f8",
   "metadata": {},
   "outputs": [],
   "source": []
  }
 ],
 "metadata": {
  "kernelspec": {
   "display_name": "Python 3 (ipykernel)",
   "language": "python",
   "name": "python3"
  },
  "language_info": {
   "codemirror_mode": {
    "name": "ipython",
    "version": 3
   },
   "file_extension": ".py",
   "mimetype": "text/x-python",
   "name": "python",
   "nbconvert_exporter": "python",
   "pygments_lexer": "ipython3",
   "version": "3.9.7"
  }
 },
 "nbformat": 4,
 "nbformat_minor": 5
}
